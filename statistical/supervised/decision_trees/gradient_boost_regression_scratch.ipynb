{
 "cells": [
  {
   "cell_type": "code",
   "execution_count": 44,
   "metadata": {},
   "outputs": [],
   "source": [
    "# Necessary libraries\n",
    "import warnings\n",
    "import numpy as np\n",
    "import pandas as pd\n",
    "import seaborn as sns\n",
    "import matplotlib.pyplot as plt\n",
    "from sklearn.model_selection import GridSearchCV, cross_validate, validation_curve\n",
    "from matplotlib import pyplot as plt\n",
    "from sklearn.ensemble import GradientBoostingRegressor\n",
    "from sklearn.metrics import classification_report, roc_auc_score,accuracy_score\n",
    "warnings.simplefilter(action='ignore', category=Warning)\n",
    "from sklearn.model_selection import learning_curve\n",
    "\n",
    "from sklearn.metrics import mean_squared_error\n",
    "from pandas.plotting import scatter_matrix\n",
    "from sklearn.preprocessing import StandardScaler\n",
    "from sklearn.model_selection import train_test_split\n",
    "from sklearn.tree import DecisionTreeRegressor\n",
    "from sklearn.model_selection import KFold\n",
    "from sklearn.model_selection import cross_val_score\n",
    "from sklearn.model_selection import GridSearchCV\n",
    "from sklearn.linear_model import LinearRegression\n",
    "from sklearn.linear_model import Lasso\n",
    "from sklearn.linear_model import ElasticNet\n",
    "from sklearn.tree import DecisionTreeRegressor\n",
    "from sklearn.neighbors import KNeighborsRegressor\n",
    "from sklearn.svm import SVR\n",
    "from sklearn.pipeline import Pipeline\n",
    "from sklearn.ensemble import RandomForestRegressor\n",
    "from sklearn.ensemble import GradientBoostingRegressor\n",
    "from sklearn.ensemble import ExtraTreesRegressor\n",
    "from sklearn.ensemble import AdaBoostRegressor\n",
    "from sklearn.metrics import mean_squared_error"
   ]
  },
  {
   "cell_type": "code",
   "execution_count": 10,
   "metadata": {},
   "outputs": [
    {
     "name": "stdout",
     "output_type": "stream",
     "text": [
      "<class 'pandas.core.frame.DataFrame'>\n",
      "Index: 394 entries, 0 to 504\n",
      "Data columns (total 14 columns):\n",
      " #   Column   Non-Null Count  Dtype  \n",
      "---  ------   --------------  -----  \n",
      " 0   CRIM     394 non-null    float64\n",
      " 1   ZN       394 non-null    float64\n",
      " 2   INDUS    394 non-null    float64\n",
      " 3   CHAS     394 non-null    float64\n",
      " 4   NOX      394 non-null    float64\n",
      " 5   RM       394 non-null    float64\n",
      " 6   AGE      394 non-null    float64\n",
      " 7   DIS      394 non-null    float64\n",
      " 8   RAD      394 non-null    int64  \n",
      " 9   TAX      394 non-null    int64  \n",
      " 10  PTRATIO  394 non-null    float64\n",
      " 11  B        394 non-null    float64\n",
      " 12  LSTAT    394 non-null    float64\n",
      " 13  MEDV     394 non-null    float64\n",
      "dtypes: float64(12), int64(2)\n",
      "memory usage: 46.2 KB\n"
     ]
    }
   ],
   "source": [
    "df = pd.read_csv(\"datasets/HousingData.csv\")\n",
    "df.dropna(inplace=True)\n",
    "df.info()"
   ]
  },
  {
   "cell_type": "code",
   "execution_count": 16,
   "metadata": {},
   "outputs": [
    {
     "data": {
      "text/plain": [
       "((295, 13), (295,), (99, 13), (99,))"
      ]
     },
     "execution_count": 16,
     "metadata": {},
     "output_type": "execute_result"
    }
   ],
   "source": [
    "train, val = train_test_split(df)\n",
    "X_train, y_train = train.drop('MEDV', axis=1), train.MEDV\n",
    "X_test, y_test = val.drop('MEDV', axis=1), val.MEDV\n",
    "\n",
    "X_train.shape, y_train.shape, X_test.shape,y_test.shape"
   ]
  },
  {
   "cell_type": "code",
   "execution_count": 66,
   "metadata": {},
   "outputs": [],
   "source": [
    "class GradientBoostingRegression():\n",
    "    def __init__(self, num_regressors=100, learning_rate=0.1, max_tree_depth=4):\n",
    "        self.num_regressors = num_regressors\n",
    "        self.learning_rate = learning_rate\n",
    "        self.max_tree_depth = max_tree_depth\n",
    "        self.y_pred_initial = None\n",
    "        self.models = []\n",
    "        self.losses = []\n",
    "        \n",
    "        self.residuals_ = []\n",
    "    \n",
    "    def get_loss(self, true, predicted):\n",
    "        \"\"\"MSE\n",
    "\n",
    "        Args:\n",
    "            true (ndarray): True values\n",
    "            predicted (ndarray): Predicted values\n",
    "\n",
    "        Returns:\n",
    "            MSE: Mean squared error\n",
    "        \"\"\"\n",
    "        return 1/2 * np.sum((true - predicted)**2) / len(true)\n",
    "    \n",
    "    def get_gradient(self, true, pred):\n",
    "        return (true - pred)\n",
    "    \n",
    "    def fit(self, X, y):\n",
    "        N = X.shape[0]\n",
    "        \n",
    "        # Initialize initial prediction.\n",
    "        y_pred = np.full(N, np.mean(y), dtype=np.float64)\n",
    "        self.y_pred_initial = np.mean(y)\n",
    "        \n",
    "        for i in range(self.num_regressors):\n",
    "            loss = self.get_loss(y, y_pred)\n",
    "            self.losses.append(loss)\n",
    "            \n",
    "            # Compute residuals.\n",
    "            residuals = self.get_gradient(y, y_pred)\n",
    "            \n",
    "            if i % 10 == 0:\n",
    "                print(f\"Loss at epoch({i} = {loss})\")\n",
    "                self.residuals_.append(residuals)\n",
    "            \n",
    "            # Build regression tree to predict residuals.\n",
    "            decision_tree = DecisionTreeRegressor(criterion='squared_error', max_depth=self.max_tree_depth, random_state=52)\n",
    "            decision_tree.fit(X, residuals)\n",
    "            self.models.append(decision_tree)\n",
    "            \n",
    "            y_pred += self.learning_rate * decision_tree.predict(X)\n",
    "        \n",
    "        plt.figure(figsize=(10, 10))\n",
    "        plt.plot(range(self.num_regressors), self.losses)\n",
    "        plt.xlabel('Iteration')\n",
    "        plt.ylabel('Loss')\n",
    "        plt.draw()\n",
    "    \n",
    "    def predict(self, X):\n",
    "        y_pred = np.full(len(X), self.y_pred_initial, dtype=np.float64)\n",
    "        for i in range(self.num_regressors):\n",
    "            decision_tree = self.models[i]\n",
    "            y_pred += self.learning_rate * decision_tree.predict(X)\n",
    "        print(y_pred.shape)\n",
    "        return y_pred"
   ]
  },
  {
   "cell_type": "code",
   "execution_count": 73,
   "metadata": {},
   "outputs": [
    {
     "name": "stdout",
     "output_type": "stream",
     "text": [
      "Loss at epoch(0 = 44.07964975581729)\n",
      "Loss at epoch(10 = 6.585724194589818)\n",
      "Loss at epoch(20 = 1.2903782497103713)\n",
      "Loss at epoch(30 = 0.34466140519766786)\n",
      "Loss at epoch(40 = 0.13120379138881705)\n",
      "Loss at epoch(50 = 0.06439362513164638)\n",
      "Loss at epoch(60 = 0.035271265409653876)\n",
      "Loss at epoch(70 = 0.022070852064694536)\n",
      "Loss at epoch(80 = 0.012753564125820127)\n",
      "Loss at epoch(90 = 0.008969635952711543)\n",
      "Loss at epoch(100 = 0.00632153188533922)\n",
      "Loss at epoch(110 = 0.003933502404575341)\n",
      "Loss at epoch(120 = 0.002823149799366014)\n",
      "Loss at epoch(130 = 0.0019081925863286952)\n",
      "Loss at epoch(140 = 0.0012545153641130512)\n",
      "Loss at epoch(150 = 0.0008691496169123527)\n",
      "Loss at epoch(160 = 0.0005796317221172972)\n",
      "Loss at epoch(170 = 0.00039511787531031236)\n",
      "Loss at epoch(180 = 0.00025962493988135056)\n",
      "Loss at epoch(190 = 0.00016765232355792247)\n"
     ]
    },
    {
     "data": {
      "image/png": "[encoded data removed]",
      "text/plain": [
       "<Figure size 1000x1000 with 1 Axes>"
      ]
     },
     "metadata": {},
     "output_type": "display_data"
    }
   ],
   "source": [
    "gbr = GradientBoostingRegression(num_regressors=200, max_tree_depth=6)\n",
    "gbr.fit(X_train, y_train)"
   ]
  },
  {
   "cell_type": "code",
   "execution_count": 74,
   "metadata": {},
   "outputs": [
    {
     "name": "stdout",
     "output_type": "stream",
     "text": [
      "(99,)\n"
     ]
    },
    {
     "data": {
      "text/plain": [
       "8.339314511327023"
      ]
     },
     "execution_count": 74,
     "metadata": {},
     "output_type": "execute_result"
    }
   ],
   "source": [
    "y_pred = gbr.predict(X_test)\n",
    "mean_squared_error(y_test, y_pred)"
   ]
  },
  {
   "cell_type": "code",
   "execution_count": 75,
   "metadata": {},
   "outputs": [
    {
     "name": "stdout",
     "output_type": "stream",
     "text": [
      "      Iter       Train Loss   Remaining Time \n",
      "         1          72.9359            0.10s\n",
      "         2          60.6744            0.10s\n",
      "         3          50.6533            0.06s\n",
      "         4          42.5217            0.08s\n",
      "         5          35.8401            0.09s\n",
      "         6          30.3032            0.09s\n",
      "         7          25.7986            0.08s\n",
      "         8          22.0393            0.08s\n",
      "         9          18.8876            0.08s\n",
      "        10          16.4038            0.08s\n",
      "        20           5.2010            0.07s\n",
      "        30           2.6950            0.06s\n",
      "        40           1.7540            0.05s\n",
      "        50           1.3490            0.04s\n",
      "        60           1.0815            0.04s\n",
      "        70           0.8530            0.03s\n",
      "        80           0.6628            0.02s\n",
      "        90           0.5500            0.01s\n",
      "       100           0.4642            0.00s\n"
     ]
    },
    {
     "data": {
      "text/plain": [
       "7.9637674452288065"
      ]
     },
     "execution_count": 75,
     "metadata": {},
     "output_type": "execute_result"
    }
   ],
   "source": [
    "lib_gbr = GradientBoostingRegressor(loss='squared_error', learning_rate=0.1, n_estimators=100, max_depth=4, verbose=1)\n",
    "lib_gbr.fit(X_train, y_train)\n",
    "mean_squared_error(y_test, lib_gbr.predict(X_test))"
   ]
  }
 ],
 "metadata": {
  "kernelspec": {
   "display_name": "Python 3",
   "language": "python",
   "name": "python3"
  },
  "language_info": {
   "codemirror_mode": {
    "name": "ipython",
    "version": 3
   },
   "file_extension": ".py",
   "mimetype": "text/x-python",
   "name": "python",
   "nbconvert_exporter": "python",
   "pygments_lexer": "ipython3",
   "version": "3.10.10"
  }
 },
 "nbformat": 4,
 "nbformat_minor": 2
}
