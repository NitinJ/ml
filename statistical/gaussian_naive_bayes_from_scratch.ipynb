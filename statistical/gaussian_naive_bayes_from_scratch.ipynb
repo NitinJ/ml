{
 "cells": [
  {
   "cell_type": "code",
   "execution_count": 37,
   "metadata": {},
   "outputs": [
    {
     "name": "stdout",
     "output_type": "stream",
     "text": [
      "self.classes =  [0 1]\n",
      "self.mean =  {0: array([3.45, 4.45]), 1: array([1.35, 1.5 ])}\n",
      "self.variance =  {0: array([0.1225, 0.3025]), 1: array([0.0225, 0.64  ])}\n",
      "X =  [1.2 2.4]\n",
      "[-28.49291141957299, -1.5435732107692004]\n",
      "Prediction =  [1]\n"
     ]
    }
   ],
   "source": [
    "import numpy as np\n",
    "from scipy.stats import norm\n",
    "\n",
    "class GaussianNaiveBayes:\n",
    "    def fit(self, X, y):\n",
    "        self.classes = np.unique(y)\n",
    "        self.mean = {}\n",
    "        self.variance = {}\n",
    "        self.prior = {}\n",
    "\n",
    "        for c in self.classes:\n",
    "            X_c = X[y == c]\n",
    "            self.mean[c] = np.mean(X_c, axis=0)\n",
    "            self.variance[c] = np.var(X_c, axis=0)\n",
    "            \n",
    "            # Number of rows in X_c/Number of total rows in X\n",
    "            # Number of rows in X_c is equal to number of times Class is C\n",
    "            self.prior[c] = X_c.shape[0] / X.shape[0]\n",
    "        \n",
    "        print(\"self.classes = \", self.classes)\n",
    "        print(\"self.mean = \", self.mean)\n",
    "        print(\"self.variance = \", self.variance)\n",
    "        \n",
    "    def predict(self, X):\n",
    "        predictions = [self._predict_single(x) for x in X]\n",
    "        return np.array(predictions)\n",
    "    \n",
    "    def _gaussian_probability(self, x, mean, variance):\n",
    "        return norm.pdf(x, mean, np.sqrt(variance))\n",
    "        \n",
    "    def _predict_single(self, x):\n",
    "        print(\"X = \", x)\n",
    "        posteriors = []\n",
    "        for c in self.classes:\n",
    "            # For each class calculate it's probability\n",
    "            prior = np.log(self.prior[c])\n",
    "            likelihood = np.sum(np.log(self._gaussian_probability(x, self.mean[c], self.variance[c])))\n",
    "            posteriors.append(prior + likelihood)\n",
    "        print(posteriors)\n",
    "        return self.classes[np.argmax(posteriors)]\n",
    "\n",
    "# Example usage:\n",
    "X = np.array([[1.5, 2.3], [3.1, 3.9], [1.2, 0.7], [3.8, 5.0]])\n",
    "y = np.array([1, 0, 1, 0])\n",
    "X_test = np.array([[1.2, 2.4]])\n",
    "\n",
    "model = GaussianNaiveBayes()\n",
    "model.fit(X, y)\n",
    "print(\"Prediction = \", model.predict(X_test))\n"
   ]
  },
  {
   "cell_type": "code",
   "execution_count": 39,
   "metadata": {},
   "outputs": [
    {
     "ename": "TypeError",
     "evalue": "GaussianNB.__init__() got an unexpected keyword argument 'alpha'",
     "output_type": "error",
     "traceback": [
      "\u001b[1;31m---------------------------------------------------------------------------\u001b[0m",
      "\u001b[1;31mTypeError\u001b[0m                                 Traceback (most recent call last)",
      "Cell \u001b[1;32mIn[39], line 5\u001b[0m\n\u001b[0;32m      2\u001b[0m \u001b[38;5;28;01mfrom\u001b[39;00m \u001b[38;5;21;01msklearn\u001b[39;00m\u001b[38;5;21;01m.\u001b[39;00m\u001b[38;5;21;01mmetrics\u001b[39;00m \u001b[38;5;28;01mimport\u001b[39;00m accuracy_score\n\u001b[0;32m      4\u001b[0m \u001b[38;5;66;03m# Train the model\u001b[39;00m\n\u001b[1;32m----> 5\u001b[0m model \u001b[38;5;241m=\u001b[39m \u001b[43mGaussianNB\u001b[49m\u001b[43m(\u001b[49m\u001b[43malpha\u001b[49m\u001b[38;5;241;43m=\u001b[39;49m\u001b[38;5;241;43m1.0\u001b[39;49m\u001b[43m)\u001b[49m\n\u001b[0;32m      6\u001b[0m model\u001b[38;5;241m.\u001b[39mfit(X, y)\n\u001b[0;32m      8\u001b[0m \u001b[38;5;66;03m# Make predictions\u001b[39;00m\n",
      "\u001b[1;31mTypeError\u001b[0m: GaussianNB.__init__() got an unexpected keyword argument 'alpha'"
     ]
    }
   ],
   "source": [
    "from sklearn.naive_bayes import GaussianNB\n",
    "from sklearn.metrics import accuracy_score\n",
    "\n",
    "# Train the model\n",
    "model = GaussianNB()\n",
    "model.fit(X, y)\n",
    "\n",
    "# Make predictions\n",
    "predictions = model.predict(X_test)\n",
    "print(\"Prediction = \", predictions)"
   ]
  }
 ],
 "metadata": {
  "kernelspec": {
   "display_name": "Python 3",
   "language": "python",
   "name": "python3"
  },
  "language_info": {
   "codemirror_mode": {
    "name": "ipython",
    "version": 3
   },
   "file_extension": ".py",
   "mimetype": "text/x-python",
   "name": "python",
   "nbconvert_exporter": "python",
   "pygments_lexer": "ipython3",
   "version": "3.10.10"
  }
 },
 "nbformat": 4,
 "nbformat_minor": 2
}
