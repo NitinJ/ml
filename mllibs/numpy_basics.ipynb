{
 "cells": [
  {
   "cell_type": "code",
   "execution_count": 41,
   "metadata": {},
   "outputs": [],
   "source": [
    "import numpy as np\n",
    "from IPython.core.interactiveshell import InteractiveShell\n",
    "\n",
    "InteractiveShell.ast_node_interactivity = \"all\""
   ]
  },
  {
   "cell_type": "code",
   "execution_count": 42,
   "metadata": {},
   "outputs": [
    {
     "name": "stdout",
     "output_type": "stream",
     "text": [
      "[[ 0  1  2  3  4]\n",
      " [ 5  6  7  8  9]\n",
      " [10 11 12 13 14]\n",
      " [15 16 17 18 19]]\n",
      "2\n",
      "(4, 5)\n",
      "20\n",
      "int32\n",
      "4\n",
      "<memory at 0x00000172A11C6740>\n"
     ]
    }
   ],
   "source": [
    "a = np.arange(20).reshape(4,5)\n",
    "print(a)\n",
    "print(a.ndim)\n",
    "print(a.shape)\n",
    "print(a.size)\n",
    "print(a.dtype)\n",
    "print(a.itemsize)\n",
    "print(a.data)"
   ]
  },
  {
   "cell_type": "markdown",
   "metadata": {},
   "source": [
    "Various ways of creating numpy arrays"
   ]
  },
  {
   "cell_type": "code",
   "execution_count": 43,
   "metadata": {},
   "outputs": [
    {
     "name": "stdout",
     "output_type": "stream",
     "text": [
      "[[0. 0. 0.]\n",
      " [0. 0. 0.]]\n",
      "[[1. 1. 1.]\n",
      " [1. 1. 1.]]\n",
      "[[1. 1. 1.]\n",
      " [1. 1. 1.]]\n",
      "[ 5 10 15 20 25 30 35 40 45]\n",
      "[ 5.          5.55555556  6.11111111  6.66666667  7.22222222  7.77777778\n",
      "  8.33333333  8.88888889  9.44444444 10.        ]\n"
     ]
    }
   ],
   "source": [
    "a = np.zeros((2,3))\n",
    "print(a)\n",
    "\n",
    "b = np.ones((2,3))\n",
    "print(b)\n",
    "\n",
    "c = np.empty((2,3))\n",
    "print(c)\n",
    "\n",
    "d = np.arange(5, 50, 5)\n",
    "print(d)\n",
    "\n",
    "e = np.linspace(5, 10, 10)\n",
    "print(e)"
   ]
  },
  {
   "cell_type": "markdown",
   "metadata": {},
   "source": [
    "Upcasting of array types"
   ]
  },
  {
   "cell_type": "code",
   "execution_count": 44,
   "metadata": {},
   "outputs": [
    {
     "name": "stdout",
     "output_type": "stream",
     "text": [
      "int32\n",
      "float64\n",
      "float64\n"
     ]
    },
    {
     "data": {
      "text/plain": [
       "array([[0.54030231+0.84147098j, 0.54030231+0.84147098j,\n",
       "        0.54030231+0.84147098j],\n",
       "       [0.54030231+0.84147098j, 0.54030231+0.84147098j,\n",
       "        0.54030231+0.84147098j]])"
      ]
     },
     "execution_count": 44,
     "metadata": {},
     "output_type": "execute_result"
    },
    {
     "name": "stdout",
     "output_type": "stream",
     "text": [
      "complex128\n"
     ]
    }
   ],
   "source": [
    "from numpy import pi\n",
    "a = np.ones(3, dtype=np.int32)\n",
    "print(a.dtype.name)\n",
    "\n",
    "b = np.linspace(0, pi, 3)\n",
    "print(b.dtype.name)\n",
    "\n",
    "print((a + b).dtype.name)\n",
    "\n",
    "d = np.exp(c * 1j)\n",
    "d\n",
    "print(d.dtype.name)"
   ]
  },
  {
   "cell_type": "markdown",
   "metadata": {},
   "source": [
    "Axis operations"
   ]
  },
  {
   "cell_type": "code",
   "execution_count": 46,
   "metadata": {},
   "outputs": [
    {
     "data": {
      "text/plain": [
       "array([[ 0,  1,  2,  3,  4],\n",
       "       [ 5,  6,  7,  8,  9],\n",
       "       [10, 11, 12, 13, 14],\n",
       "       [15, 16, 17, 18, 19]])"
      ]
     },
     "execution_count": 46,
     "metadata": {},
     "output_type": "execute_result"
    },
    {
     "data": {
      "text/plain": [
       "array([30, 34, 38, 42, 46])"
      ]
     },
     "execution_count": 46,
     "metadata": {},
     "output_type": "execute_result"
    },
    {
     "data": {
      "text/plain": [
       "array([0, 1, 2, 3, 4])"
      ]
     },
     "execution_count": 46,
     "metadata": {},
     "output_type": "execute_result"
    }
   ],
   "source": [
    "a = np.arange(20).reshape(4, 5)\n",
    "\n",
    "# Sum along each row, so sum of each column.\n",
    "a.sum(axis=0)\n",
    "\n",
    "a.min(axis=0)"
   ]
  },
  {
   "cell_type": "markdown",
   "metadata": {},
   "source": [
    "Element wise operations, or universal (ufunc) methods"
   ]
  },
  {
   "cell_type": "code",
   "execution_count": 48,
   "metadata": {},
   "outputs": [
    {
     "data": {
      "text/plain": [
       "array([[ 0,  1,  2,  3,  4],\n",
       "       [ 5,  6,  7,  8,  9],\n",
       "       [10, 11, 12, 13, 14],\n",
       "       [15, 16, 17, 18, 19]])"
      ]
     },
     "execution_count": 48,
     "metadata": {},
     "output_type": "execute_result"
    },
    {
     "data": {
      "text/plain": [
       "array([[1.00000000e+00, 2.71828183e+00, 7.38905610e+00, 2.00855369e+01,\n",
       "        5.45981500e+01],\n",
       "       [1.48413159e+02, 4.03428793e+02, 1.09663316e+03, 2.98095799e+03,\n",
       "        8.10308393e+03],\n",
       "       [2.20264658e+04, 5.98741417e+04, 1.62754791e+05, 4.42413392e+05,\n",
       "        1.20260428e+06],\n",
       "       [3.26901737e+06, 8.88611052e+06, 2.41549528e+07, 6.56599691e+07,\n",
       "        1.78482301e+08]])"
      ]
     },
     "execution_count": 48,
     "metadata": {},
     "output_type": "execute_result"
    },
    {
     "data": {
      "text/plain": [
       "array([[ 1.        ,  0.54030231, -0.41614684, -0.9899925 , -0.65364362],\n",
       "       [ 0.28366219,  0.96017029,  0.75390225, -0.14550003, -0.91113026],\n",
       "       [-0.83907153,  0.0044257 ,  0.84385396,  0.90744678,  0.13673722],\n",
       "       [-0.75968791, -0.95765948, -0.27516334,  0.66031671,  0.98870462]])"
      ]
     },
     "execution_count": 48,
     "metadata": {},
     "output_type": "execute_result"
    }
   ],
   "source": [
    "a = np.arange(20).reshape(4, 5)\n",
    "a\n",
    "np.exp(a)\n",
    "np.cos(a)"
   ]
  },
  {
   "cell_type": "markdown",
   "metadata": {},
   "source": [
    "Stacking together different arrays\n",
    "Several arrays can be stacked together along different axes:"
   ]
  },
  {
   "cell_type": "code",
   "execution_count": 52,
   "metadata": {},
   "outputs": [
    {
     "data": {
      "text/plain": [
       "array([[0.51182162, 0.9504637 ],\n",
       "       [0.14415961, 0.94864945]])"
      ]
     },
     "execution_count": 52,
     "metadata": {},
     "output_type": "execute_result"
    },
    {
     "data": {
      "text/plain": [
       "array([[3., 4.],\n",
       "       [8., 4.]])"
      ]
     },
     "execution_count": 52,
     "metadata": {},
     "output_type": "execute_result"
    },
    {
     "data": {
      "text/plain": [
       "array([[5., 0.],\n",
       "       [7., 5.]])"
      ]
     },
     "execution_count": 52,
     "metadata": {},
     "output_type": "execute_result"
    },
    {
     "data": {
      "text/plain": [
       "array([[3., 4.],\n",
       "       [8., 4.],\n",
       "       [5., 0.],\n",
       "       [7., 5.]])"
      ]
     },
     "execution_count": 52,
     "metadata": {},
     "output_type": "execute_result"
    },
    {
     "data": {
      "text/plain": [
       "array([[3., 4., 5., 0.],\n",
       "       [8., 4., 7., 5.]])"
      ]
     },
     "execution_count": 52,
     "metadata": {},
     "output_type": "execute_result"
    }
   ],
   "source": [
    "rg = np.random.default_rng(1)\n",
    "a = np.floor(10 * rg.random((2, 2)))\n",
    "a\n",
    "b = np.floor(10 * rg.random((2, 2)))\n",
    "b\n",
    "\n",
    "np.vstack((a, b))\n",
    "\n",
    "np.hstack((a, b))"
   ]
  },
  {
   "cell_type": "markdown",
   "metadata": {},
   "source": [
    "Splitting one array into several smaller ones\n",
    "Using hsplit, you can split an array along its horizontal axis, either by specifying the number of equally shaped arrays to return, or by specifying the columns after which the division should occur:"
   ]
  },
  {
   "cell_type": "code",
   "execution_count": 55,
   "metadata": {},
   "outputs": [
    {
     "data": {
      "text/plain": [
       "array([[2., 0., 6., 7., 8., 2., 2., 6., 8., 9., 1., 4.],\n",
       "       [8., 4., 5., 0., 6., 9., 8., 8., 6., 2., 7., 2.]])"
      ]
     },
     "execution_count": 55,
     "metadata": {},
     "output_type": "execute_result"
    },
    {
     "data": {
      "text/plain": [
       "[array([[2., 0., 6., 7.],\n",
       "        [8., 4., 5., 0.]]),\n",
       " array([[8., 2., 2., 6.],\n",
       "        [6., 9., 8., 8.]]),\n",
       " array([[8., 9., 1., 4.],\n",
       "        [6., 2., 7., 2.]])]"
      ]
     },
     "execution_count": 55,
     "metadata": {},
     "output_type": "execute_result"
    },
    {
     "data": {
      "text/plain": [
       "[array([[2., 0., 6.],\n",
       "        [8., 4., 5.]]),\n",
       " array([[7.],\n",
       "        [0.]]),\n",
       " array([[8., 2., 2., 6., 8., 9., 1., 4.],\n",
       "        [6., 9., 8., 8., 6., 2., 7., 2.]])]"
      ]
     },
     "execution_count": 55,
     "metadata": {},
     "output_type": "execute_result"
    }
   ],
   "source": [
    "a = np.floor(10 * rg.random((2, 12)))\n",
    "a\n",
    "np.hsplit(a, 3)\n",
    "np.hsplit(a, (3, 4))"
   ]
  },
  {
   "cell_type": "markdown",
   "metadata": {},
   "source": [
    "Reference - b = a\n",
    "Shallow copy - a.view()\n",
    "Deep copy - a.copy()"
   ]
  },
  {
   "cell_type": "markdown",
   "metadata": {},
   "source": [
    "Indexing with boolean arrays"
   ]
  },
  {
   "cell_type": "code",
   "execution_count": 67,
   "metadata": {},
   "outputs": [
    {
     "data": {
      "text/plain": [
       "array([[ 0,  1,  2,  3],\n",
       "       [ 4,  5,  6,  7],\n",
       "       [ 8,  9, 10, 11]])"
      ]
     },
     "execution_count": 67,
     "metadata": {},
     "output_type": "execute_result"
    },
    {
     "data": {
      "text/plain": [
       "array([[False, False, False, False],\n",
       "       [False,  True,  True,  True],\n",
       "       [ True,  True,  True,  True]])"
      ]
     },
     "execution_count": 67,
     "metadata": {},
     "output_type": "execute_result"
    },
    {
     "data": {
      "text/plain": [
       "array([ 5,  6,  7,  8,  9, 10, 11])"
      ]
     },
     "execution_count": 67,
     "metadata": {},
     "output_type": "execute_result"
    },
    {
     "data": {
      "text/plain": [
       "array([[0, 1, 2, 3],\n",
       "       [4, 0, 0, 0],\n",
       "       [0, 0, 0, 0]])"
      ]
     },
     "execution_count": 67,
     "metadata": {},
     "output_type": "execute_result"
    }
   ],
   "source": [
    "a = np.arange(12).reshape(3, 4)\n",
    "a\n",
    "b = a > 4\n",
    "b\n",
    "\n",
    "a[b]\n",
    "\n",
    "a[b] = 0\n",
    "a\n"
   ]
  },
  {
   "cell_type": "code",
   "execution_count": 69,
   "metadata": {},
   "outputs": [
    {
     "data": {
      "text/plain": [
       "array([[ 0,  1,  2,  3],\n",
       "       [ 4,  5,  6,  7],\n",
       "       [ 8,  9, 10, 11]])"
      ]
     },
     "execution_count": 69,
     "metadata": {},
     "output_type": "execute_result"
    },
    {
     "data": {
      "text/plain": [
       "array([[ 4,  5,  6,  7],\n",
       "       [ 8,  9, 10, 11]])"
      ]
     },
     "execution_count": 69,
     "metadata": {},
     "output_type": "execute_result"
    },
    {
     "data": {
      "text/plain": [
       "array([[ 4,  5,  6,  7],\n",
       "       [ 8,  9, 10, 11]])"
      ]
     },
     "execution_count": 69,
     "metadata": {},
     "output_type": "execute_result"
    },
    {
     "data": {
      "text/plain": [
       "array([[ 0,  2],\n",
       "       [ 4,  6],\n",
       "       [ 8, 10]])"
      ]
     },
     "execution_count": 69,
     "metadata": {},
     "output_type": "execute_result"
    },
    {
     "data": {
      "text/plain": [
       "array([ 4, 10])"
      ]
     },
     "execution_count": 69,
     "metadata": {},
     "output_type": "execute_result"
    }
   ],
   "source": [
    "a = np.arange(12).reshape(3, 4)\n",
    "a\n",
    "b1 = np.array([False, True, True])         # first dim selection\n",
    "b2 = np.array([True, False, True, False])  # second dim selection\n",
    "\n",
    "a[b1, :]                                   # selecting rows\n",
    "\n",
    "a[b1]                                      # same thing\n",
    "\n",
    "a[:, b2]                                   # selecting columns\n",
    "\n",
    "a[b1, b2]                                  # a weird thing to do\n"
   ]
  },
  {
   "cell_type": "markdown",
   "metadata": {},
   "source": [
    "Vector stacking"
   ]
  },
  {
   "cell_type": "code",
   "execution_count": 74,
   "metadata": {},
   "outputs": [
    {
     "data": {
      "text/plain": [
       "(array([0, 2, 4, 6, 8]), array([0, 1, 2, 3, 4]))"
      ]
     },
     "execution_count": 74,
     "metadata": {},
     "output_type": "execute_result"
    },
    {
     "data": {
      "text/plain": [
       "array([[0, 2, 4, 6, 8],\n",
       "       [0, 1, 2, 3, 4]])"
      ]
     },
     "execution_count": 74,
     "metadata": {},
     "output_type": "execute_result"
    }
   ],
   "source": [
    "x = np.arange(0, 10, 2)\n",
    "y = np.arange(5)\n",
    "\n",
    "x,y\n",
    "\n",
    "np.vstack([x, y])"
   ]
  },
  {
   "cell_type": "markdown",
   "metadata": {},
   "source": [
    "Histogram\n"
   ]
  },
  {
   "cell_type": "code",
   "execution_count": 78,
   "metadata": {},
   "outputs": [
    {
     "data": {
      "text/plain": [
       "(array([0.00128706, 0.00257412, 0.00257412, 0.00257412, 0.00772237,\n",
       "        0.00900943, 0.01415767, 0.03861183, 0.04247301, 0.03989889,\n",
       "        0.05663068, 0.08623308, 0.13900258, 0.16088261, 0.24454157,\n",
       "        0.30117225, 0.34750645, 0.41700774, 0.51997261, 0.60234451,\n",
       "        0.68214229, 0.69501289, 0.78768128, 0.73619884, 0.79540365,\n",
       "        0.78896834, 0.72976354, 0.7014482 , 0.69501289, 0.60749275,\n",
       "        0.57660329, 0.4478972 , 0.39126652, 0.28186634, 0.24196745,\n",
       "        0.20592975, 0.13385434, 0.10425193, 0.07851072, 0.04762125,\n",
       "        0.0296024 , 0.03217652, 0.01029649, 0.00900943, 0.0064353 ,\n",
       "        0.00772237, 0.00514824, 0.00128706, 0.00257412, 0.00128706]),\n",
       " array([0.08106893, 0.15876533, 0.23646173, 0.31415813, 0.39185453,\n",
       "        0.46955093, 0.54724733, 0.62494373, 0.70264013, 0.78033653,\n",
       "        0.85803293, 0.93572933, 1.01342573, 1.09112213, 1.16881853,\n",
       "        1.24651493, 1.32421133, 1.40190773, 1.47960413, 1.55730053,\n",
       "        1.63499693, 1.71269333, 1.79038973, 1.86808613, 1.94578253,\n",
       "        2.02347893, 2.10117533, 2.17887173, 2.25656814, 2.33426454,\n",
       "        2.41196094, 2.48965734, 2.56735374, 2.64505014, 2.72274654,\n",
       "        2.80044294, 2.87813934, 2.95583574, 3.03353214, 3.11122854,\n",
       "        3.18892494, 3.26662134, 3.34431774, 3.42201414, 3.49971054,\n",
       "        3.57740694, 3.65510334, 3.73279974, 3.81049614, 3.88819254,\n",
       "        3.96588894]),\n",
       " <BarContainer object of 50 artists>)"
      ]
     },
     "execution_count": 78,
     "metadata": {},
     "output_type": "execute_result"
    },
    {
     "data": {
      "text/plain": [
       "[<matplotlib.lines.Line2D at 0x172cd683a30>]"
      ]
     },
     "execution_count": 78,
     "metadata": {},
     "output_type": "execute_result"
    },
    {
     "data": {
      "image/png": "[encoded data removed]",
      "text/plain": [
       "<Figure size 640x480 with 1 Axes>"
      ]
     },
     "metadata": {},
     "output_type": "display_data"
    },
    {
     "ename": "",
     "evalue": "",
     "output_type": "error",
     "traceback": [
      "\u001b[1;31mThe Kernel crashed while executing code in the current cell or a previous cell. \n",
      "\u001b[1;31mPlease review the code in the cell(s) to identify a possible cause of the failure. \n",
      "\u001b[1;31mClick <a href='https://aka.ms/vscodeJupyterKernelCrash'>here</a> for more info. \n",
      "\u001b[1;31mView Jupyter <a href='command:jupyter.viewOutput'>log</a> for further details."
     ]
    }
   ],
   "source": [
    "rg = np.random.default_rng(1)\n",
    "import matplotlib.pyplot as plt\n",
    "\n",
    "mu, sigma = 2, 0.5\n",
    "\n",
    "v = rg.normal(mu ,sigma, 10000)\n",
    "plt.hist(v, bins=50, density=True)\n",
    "\n",
    "(n, bins) = np.histogram(v, bins=50, density=True)\n",
    "plt.plot(.5 * (bins[1:] + bins[:-1]), n)"
   ]
  },
  {
   "cell_type": "code",
   "execution_count": null,
   "metadata": {},
   "outputs": [],
   "source": []
  }
 ],
 "metadata": {
  "kernelspec": {
   "display_name": "Python 3",
   "language": "python",
   "name": "python3"
  },
  "language_info": {
   "codemirror_mode": {
    "name": "ipython",
    "version": 3
   },
   "file_extension": ".py",
   "mimetype": "text/x-python",
   "name": "python",
   "nbconvert_exporter": "python",
   "pygments_lexer": "ipython3",
   "version": "3.10.10"
  }
 },
 "nbformat": 4,
 "nbformat_minor": 2
}
