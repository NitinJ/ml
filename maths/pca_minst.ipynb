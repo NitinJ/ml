{
 "cells": [
  {
   "cell_type": "code",
   "execution_count": 1,
   "metadata": {},
   "outputs": [],
   "source": [
    "import numpy as np\n",
    "import matplotlib.pyplot as plt\n",
    "from ipywidgets import interact\n",
    "\n",
    "plt.style.use('fivethirtyeight')\n",
    "%matplotlib inline\n",
    "\n",
    "from keras.datasets import mnist"
   ]
  },
  {
   "cell_type": "code",
   "execution_count": 2,
   "metadata": {},
   "outputs": [
    {
     "data": {
      "image/png": "[encoded data removed]",
      "text/plain": [
       "<Figure size 400x400 with 1 Axes>"
      ]
     },
     "metadata": {},
     "output_type": "display_data"
    }
   ],
   "source": [
    "\n",
    "(train_X, train_y), (test_X, test_y) = mnist.load_data()\n",
    "images, labels = train_X, train_y\n",
    "\n",
    "plt.figure(figsize=(4,4))\n",
    "plt.imshow(images[2].reshape(28,28), cmap='gray')\n",
    "plt.grid(False)\n"
   ]
  },
  {
   "cell_type": "code",
   "execution_count": 3,
   "metadata": {},
   "outputs": [
    {
     "name": "stdout",
     "output_type": "stream",
     "text": [
      "[[0. 0. 0. ... 0. 0. 0.]\n",
      " [0. 0. 0. ... 0. 0. 0.]\n",
      " [0. 0. 0. ... 0. 0. 0.]\n",
      " ...\n",
      " [0. 0. 0. ... 0. 0. 0.]\n",
      " [0. 0. 0. ... 0. 0. 0.]\n",
      " [0. 0. 0. ... 0. 0. 0.]]\n"
     ]
    }
   ],
   "source": [
    "## Some preprocessing of the data\n",
    "NUM_DATAPOINTS = 1000\n",
    "X = (images.reshape(-1, 28 * 28)[:NUM_DATAPOINTS]) / 255.\n",
    "print(X)"
   ]
  },
  {
   "cell_type": "code",
   "execution_count": 4,
   "metadata": {},
   "outputs": [],
   "source": [
    "def normalize(X):\n",
    "    \"\"\"Normalize the given dataset X to have zero mean.\n",
    "    Args:\n",
    "        X: ndarray, dataset of shape (N,D) where D is the dimension of the data,\n",
    "           and N is the number of datapoints\n",
    "    \n",
    "    Returns:\n",
    "        (Xbar, mean): tuple of ndarray, Xbar is the normalized dataset\n",
    "        with mean 0; mean is the sample mean of the dataset.\n",
    "    \"\"\"\n",
    "    # YOUR CODE HERE\n",
    "    ### Uncomment and modify the code below\n",
    "    N, D = X.shape\n",
    "    mu = np.mean(X, axis=0)\n",
    "    Xbar = X - mu            # <-- EDIT THIS, compute the normalized data Xbar by subtracting mu from each row of X\n",
    "    return Xbar, mu"
   ]
  },
  {
   "cell_type": "code",
   "execution_count": 5,
   "metadata": {},
   "outputs": [],
   "source": [
    "def eig(S):\n",
    "    \"\"\"Compute the eigenvalues and corresponding eigenvectors\n",
    "        for the covariance matrix S.\n",
    "    Args:\n",
    "        S: ndarray, covariance matrix\n",
    "\n",
    "    Returns:\n",
    "        (eigvals, eigvecs): ndarray, the eigenvalues and eigenvectors\n",
    "\n",
    "    Note:\n",
    "        the eigenvals and eigenvecs should be sorted in descending\n",
    "        order of the eigen values\n",
    "    \"\"\"\n",
    "    # YOUR CODE HERE\n",
    "    # Uncomment and modify the code below\n",
    "#     # Compute the eigenvalues and eigenvectors\n",
    "#     # Note that you can compute both of these with just a single function call\n",
    "    eigvals, eigvecs = np.linalg.eig(S)\n",
    "  \n",
    "#     # The eigenvalues and eigenvectors need to be sorted in descending order according to the eigenvalues\n",
    "#     # We will use `np.argsort` to find a permutation of the indices of eigvals that will sort eigvals in ascending order and\n",
    "#     # then find the descending order via [::-1], which reverse the indices\n",
    "#     # (https://docs.scipy.org/doc/numpy/reference/generated/numpy.argsort.html)\n",
    "    sort_indices = np.argsort(eigvals)[::-1]\n",
    "  \n",
    "#     # Notice that we are sorting the columns (not rows) of eigvecs since the columns represent the eigenvectors.\n",
    "    return eigvals[sort_indices], eigvecs[:, sort_indices]"
   ]
  },
  {
   "cell_type": "code",
   "execution_count": 6,
   "metadata": {},
   "outputs": [],
   "source": [
    "def projection_matrix(B):\n",
    "    \"\"\"Compute the projection matrix onto the space spanned by `B`\n",
    "    Args:\n",
    "        B: ndarray of dimension (D, M), the basis for the subspace\n",
    "    \n",
    "    Returns:\n",
    "        P: the projection matrix\n",
    "    \"\"\"\n",
    "    # YOUR CODE HERE\n",
    "    # Uncomment and modify the code below\n",
    "    return B@np.linalg.inv(B.T @ B)@B.T"
   ]
  },
  {
   "cell_type": "code",
   "execution_count": 7,
   "metadata": {},
   "outputs": [
    {
     "name": "stdout",
     "output_type": "stream",
     "text": [
      "X shape =  (1000, 784)\n",
      "X_normalized shape =  (1000, 784)\n",
      "eig_vecs shape =  (784, 784)\n",
      "principal_components shape =  (784, 25)\n",
      "pmatrix shape =  (784, 784)\n"
     ]
    }
   ],
   "source": [
    "def PCA(X, num_components):\n",
    "    \"\"\"\n",
    "    Args:\n",
    "        X: ndarray of size (N, D), where D is the dimension of the data,\n",
    "           and N is the number of datapoints\n",
    "        num_components: the number of principal components to use.\n",
    "    Returns:\n",
    "        the reconstructed data, the sample mean of the X, principal values\n",
    "        and principal components\n",
    "    \"\"\"\n",
    "\n",
    "    print(\"X shape = \", X.shape)\n",
    "    # YOUR CODE HERE\n",
    "    # your solution should take advantage of the functions you have implemented above.\n",
    "    ### Uncomment and modify the code below\n",
    "    # first perform normalization on the digits so that they have zero mean and unit variance\n",
    "    X_normalized, mean = normalize(X)\n",
    "    print(\"X_normalized shape = \", X_normalized.shape)\n",
    "    # Then compute the data covariance matrix S\n",
    "    S = np.cov(X_normalized, rowvar=False, bias=True)\n",
    "\n",
    "    # Next find eigenvalues and corresponding eigenvectors for S\n",
    "    eig_vals, eig_vecs = eig(S)\n",
    "    print(\"eig_vecs shape = \", eig_vecs.shape)\n",
    "    # Take the top `num_components` of eig_vals and eig_vecs,\n",
    "    # This will be the corresponding principal values and components\n",
    "    # Remember that the eigenvectors are the columns of the matrix `eig_vecs`\n",
    "    principal_vals, principal_components = eig_vals[:num_components], eig_vecs[:, :num_components]\n",
    "\n",
    "    # Due to precision errors, the eigenvectors might come out to be complex, so only take their real parts\n",
    "    principal_components = np.real(principal_components) \n",
    "    print(\"principal_components shape = \", principal_components.shape)\n",
    "    # Reconstruct the data by projecting the normalized data on the basis spanned by the principal components\n",
    "    # Remember that the data points in X_normalized are arranged along the rows\n",
    "    # but while projecting, we need them to be arranged along the columns\n",
    "    # Notice that we have subtracted the mean from X so make sure that you add it back\n",
    "    # to the reconstructed data\n",
    "    pmatrix = projection_matrix(principal_components)\n",
    "    print(\"pmatrix shape = \", pmatrix.shape)\n",
    "\n",
    "    reconst = (pmatrix @ X_normalized.T).T\n",
    "    reconst = reconst + mean\n",
    "\n",
    "    return reconst, mean, principal_vals, principal_components\n",
    "\n",
    "reconst, _, _, _ = PCA(X, num_components=25)"
   ]
  },
  {
   "cell_type": "code",
   "execution_count": 8,
   "metadata": {},
   "outputs": [
    {
     "name": "stdout",
     "output_type": "stream",
     "text": [
      "X shape =  (1000, 784)\n",
      "X_normalized shape =  (1000, 784)\n",
      "eig_vecs shape =  (784, 784)\n",
      "principal_components shape =  (784, 25)\n",
      "pmatrix shape =  (784, 784)\n"
     ]
    },
    {
     "data": {
      "text/plain": [
       "<matplotlib.image.AxesImage at 0x2090d64f400>"
      ]
     },
     "execution_count": 8,
     "metadata": {},
     "output_type": "execute_result"
    },
    {
     "data": {
      "image/png": "[encoded data removed]",
      "text/plain": [
       "<Figure size 3000x300 with 2 Axes>"
      ]
     },
     "metadata": {},
     "output_type": "display_data"
    }
   ],
   "source": [
    "reconst, _, _, _ = PCA(X, num_components=25)\n",
    "num_images_to_show = 10\n",
    "reconst_images = np.reshape(reconst[:num_images_to_show], (-1, 28, 28))\n",
    "fig, ax = plt.subplots(2, 1, figsize=(num_images_to_show * 3, 3))\n",
    "ax[0].imshow(np.concatenate(np.reshape(X[:num_images_to_show], (-1, 28, 28)), -1), cmap=\"gray\")\n",
    "ax[1].imshow(np.concatenate(reconst_images, -1), cmap=\"gray\")"
   ]
  },
  {
   "cell_type": "code",
   "execution_count": 9,
   "metadata": {},
   "outputs": [],
   "source": [
    "def mse(predict, actual):\n",
    "    \"\"\"Helper function for computing the mean squared error (MSE)\"\"\"\n",
    "    return np.square(predict - actual).sum(axis=1).mean()"
   ]
  },
  {
   "cell_type": "code",
   "execution_count": 10,
   "metadata": {},
   "outputs": [
    {
     "name": "stdout",
     "output_type": "stream",
     "text": [
      "X shape =  (1000, 784)\n",
      "X_normalized shape =  (1000, 784)\n",
      "eig_vecs shape =  (784, 784)\n",
      "principal_components shape =  (784, 1)\n",
      "pmatrix shape =  (784, 784)\n",
      "n = 1, reconstruction_error = 46.465431\n",
      "X shape =  (1000, 784)\n",
      "X_normalized shape =  (1000, 784)\n",
      "eig_vecs shape =  (784, 784)\n",
      "principal_components shape =  (784, 6)\n",
      "pmatrix shape =  (784, 784)\n",
      "n = 6, reconstruction_error = 31.284116\n",
      "X shape =  (1000, 784)\n",
      "X_normalized shape =  (1000, 784)\n",
      "eig_vecs shape =  (784, 784)\n",
      "principal_components shape =  (784, 11)\n",
      "pmatrix shape =  (784, 784)\n",
      "n = 11, reconstruction_error = 24.259506\n",
      "X shape =  (1000, 784)\n",
      "X_normalized shape =  (1000, 784)\n",
      "eig_vecs shape =  (784, 784)\n",
      "principal_components shape =  (784, 16)\n",
      "pmatrix shape =  (784, 784)\n",
      "n = 16, reconstruction_error = 19.831531\n",
      "X shape =  (1000, 784)\n",
      "X_normalized shape =  (1000, 784)\n",
      "eig_vecs shape =  (784, 784)\n",
      "principal_components shape =  (784, 21)\n",
      "pmatrix shape =  (784, 784)\n",
      "n = 21, reconstruction_error = 16.731753\n",
      "X shape =  (1000, 784)\n",
      "X_normalized shape =  (1000, 784)\n",
      "eig_vecs shape =  (784, 784)\n",
      "principal_components shape =  (784, 26)\n",
      "pmatrix shape =  (784, 784)\n",
      "n = 26, reconstruction_error = 14.364567\n",
      "X shape =  (1000, 784)\n",
      "X_normalized shape =  (1000, 784)\n",
      "eig_vecs shape =  (784, 784)\n",
      "principal_components shape =  (784, 31)\n",
      "pmatrix shape =  (784, 784)\n",
      "n = 31, reconstruction_error = 12.488758\n",
      "X shape =  (1000, 784)\n",
      "X_normalized shape =  (1000, 784)\n",
      "eig_vecs shape =  (784, 784)\n",
      "principal_components shape =  (784, 36)\n",
      "pmatrix shape =  (784, 784)\n",
      "n = 36, reconstruction_error = 11.002660\n",
      "X shape =  (1000, 784)\n",
      "X_normalized shape =  (1000, 784)\n",
      "eig_vecs shape =  (784, 784)\n",
      "principal_components shape =  (784, 41)\n",
      "pmatrix shape =  (784, 784)\n",
      "n = 41, reconstruction_error = 9.782333\n",
      "X shape =  (1000, 784)\n",
      "X_normalized shape =  (1000, 784)\n",
      "eig_vecs shape =  (784, 784)\n",
      "principal_components shape =  (784, 46)\n",
      "pmatrix shape =  (784, 784)\n",
      "n = 46, reconstruction_error = 8.774709\n",
      "X shape =  (1000, 784)\n",
      "X_normalized shape =  (1000, 784)\n",
      "eig_vecs shape =  (784, 784)\n",
      "principal_components shape =  (784, 51)\n",
      "pmatrix shape =  (784, 784)\n",
      "n = 51, reconstruction_error = 7.918999\n",
      "X shape =  (1000, 784)\n",
      "X_normalized shape =  (1000, 784)\n",
      "eig_vecs shape =  (784, 784)\n",
      "principal_components shape =  (784, 56)\n",
      "pmatrix shape =  (784, 784)\n",
      "n = 56, reconstruction_error = 7.187890\n",
      "X shape =  (1000, 784)\n",
      "X_normalized shape =  (1000, 784)\n",
      "eig_vecs shape =  (784, 784)\n",
      "principal_components shape =  (784, 61)\n",
      "pmatrix shape =  (784, 784)\n",
      "n = 61, reconstruction_error = 6.558557\n",
      "X shape =  (1000, 784)\n",
      "X_normalized shape =  (1000, 784)\n",
      "eig_vecs shape =  (784, 784)\n",
      "principal_components shape =  (784, 66)\n",
      "pmatrix shape =  (784, 784)\n",
      "n = 66, reconstruction_error = 6.020713\n",
      "X shape =  (1000, 784)\n",
      "X_normalized shape =  (1000, 784)\n",
      "eig_vecs shape =  (784, 784)\n",
      "principal_components shape =  (784, 71)\n",
      "pmatrix shape =  (784, 784)\n",
      "n = 71, reconstruction_error = 5.540953\n",
      "X shape =  (1000, 784)\n",
      "X_normalized shape =  (1000, 784)\n",
      "eig_vecs shape =  (784, 784)\n",
      "principal_components shape =  (784, 76)\n",
      "pmatrix shape =  (784, 784)\n",
      "n = 76, reconstruction_error = 5.120755\n",
      "X shape =  (1000, 784)\n",
      "X_normalized shape =  (1000, 784)\n",
      "eig_vecs shape =  (784, 784)\n",
      "principal_components shape =  (784, 81)\n",
      "pmatrix shape =  (784, 784)\n",
      "n = 81, reconstruction_error = 4.744785\n",
      "X shape =  (1000, 784)\n",
      "X_normalized shape =  (1000, 784)\n",
      "eig_vecs shape =  (784, 784)\n",
      "principal_components shape =  (784, 86)\n",
      "pmatrix shape =  (784, 784)\n",
      "n = 86, reconstruction_error = 4.418276\n",
      "X shape =  (1000, 784)\n",
      "X_normalized shape =  (1000, 784)\n",
      "eig_vecs shape =  (784, 784)\n",
      "principal_components shape =  (784, 91)\n",
      "pmatrix shape =  (784, 784)\n",
      "n = 91, reconstruction_error = 4.122307\n",
      "X shape =  (1000, 784)\n",
      "X_normalized shape =  (1000, 784)\n",
      "eig_vecs shape =  (784, 784)\n",
      "principal_components shape =  (784, 96)\n",
      "pmatrix shape =  (784, 784)\n",
      "n = 96, reconstruction_error = 3.853247\n"
     ]
    }
   ],
   "source": [
    "loss = []\n",
    "reconstructions = []\n",
    "# iterate over different number of principal components, and compute the MSE\n",
    "for num_component in range(1, 100, 5):\n",
    "    reconst, _, _, _ = PCA(X, num_component)\n",
    "    error = mse(reconst, X)\n",
    "    reconstructions.append(reconst)\n",
    "    print('n = {:d}, reconstruction_error = {:f}'.format(num_component, error))\n",
    "    loss.append((num_component, error))\n",
    "\n",
    "reconstructions = np.asarray(reconstructions)\n",
    "reconstructions = reconstructions\n",
    "loss = np.asarray(loss)"
   ]
  },
  {
   "cell_type": "code",
   "execution_count": 11,
   "metadata": {},
   "outputs": [
    {
     "data": {
      "text/html": [
       "<div>\n",
       "<style scoped>\n",
       "    .dataframe tbody tr th:only-of-type {\n",
       "        vertical-align: middle;\n",
       "    }\n",
       "\n",
       "    .dataframe tbody tr th {\n",
       "        vertical-align: top;\n",
       "    }\n",
       "\n",
       "    .dataframe thead th {\n",
       "        text-align: right;\n",
       "    }\n",
       "</style>\n",
       "<table border=\"1\" class=\"dataframe\">\n",
       "  <thead>\n",
       "    <tr style=\"text-align: right;\">\n",
       "      <th></th>\n",
       "      <th>no. of components</th>\n",
       "      <th>mse</th>\n",
       "    </tr>\n",
       "  </thead>\n",
       "  <tbody>\n",
       "    <tr>\n",
       "      <th>0</th>\n",
       "      <td>1.0</td>\n",
       "      <td>46.465431</td>\n",
       "    </tr>\n",
       "    <tr>\n",
       "      <th>1</th>\n",
       "      <td>6.0</td>\n",
       "      <td>31.284116</td>\n",
       "    </tr>\n",
       "    <tr>\n",
       "      <th>2</th>\n",
       "      <td>11.0</td>\n",
       "      <td>24.259506</td>\n",
       "    </tr>\n",
       "    <tr>\n",
       "      <th>3</th>\n",
       "      <td>16.0</td>\n",
       "      <td>19.831531</td>\n",
       "    </tr>\n",
       "    <tr>\n",
       "      <th>4</th>\n",
       "      <td>21.0</td>\n",
       "      <td>16.731753</td>\n",
       "    </tr>\n",
       "  </tbody>\n",
       "</table>\n",
       "</div>"
      ],
      "text/plain": [
       "   no. of components        mse\n",
       "0                1.0  46.465431\n",
       "1                6.0  31.284116\n",
       "2               11.0  24.259506\n",
       "3               16.0  19.831531\n",
       "4               21.0  16.731753"
      ]
     },
     "execution_count": 11,
     "metadata": {},
     "output_type": "execute_result"
    }
   ],
   "source": [
    "import pandas as pd\n",
    "# create a table showing the number of principal components and MSE\n",
    "pd.DataFrame(loss, columns=['no. of components', 'mse']).head()"
   ]
  },
  {
   "cell_type": "code",
   "execution_count": 12,
   "metadata": {},
   "outputs": [
    {
     "data": {
      "image/png": "[encoded data removed]",
      "text/plain": [
       "<Figure size 640x480 with 1 Axes>"
      ]
     },
     "metadata": {},
     "output_type": "display_data"
    }
   ],
   "source": [
    "fig, ax = plt.subplots()\n",
    "ax.plot(loss[:,0], loss[:,1]);\n",
    "ax.axhline(10, linestyle='--', color='r', linewidth=2)\n",
    "ax.xaxis.set_ticks(np.arange(1, 100, 5));\n",
    "ax.set(xlabel='num_components', ylabel='MSE', title='MSE vs number of principal components');"
   ]
  },
  {
   "cell_type": "markdown",
   "metadata": {},
   "source": [
    "But numbers don't tell us everything! Just what does it mean qualitatively for the loss to decrease from around  45.0\n",
    "  to less than  10.0?\n",
    "\n",
    "Let's find out! In the next cell, we draw the the leftmost image is the original digit. Then we show the reconstruction of the image on the right, in descending number of principal components used."
   ]
  },
  {
   "cell_type": "code",
   "execution_count": 13,
   "metadata": {},
   "outputs": [
    {
     "data": {
      "application/vnd.jupyter.widget-view+json": {
       "model_id": "d292e63ac136465dbaeb5ba5a32ef4c8",
       "version_major": 2,
       "version_minor": 0
      },
      "text/plain": [
       "interactive(children=(IntSlider(value=500, description='image_idx', max=1000), Output()), _dom_classes=('widge…"
      ]
     },
     "metadata": {},
     "output_type": "display_data"
    }
   ],
   "source": [
    "@interact(image_idx=(0, 1000))\n",
    "def show_num_components_reconst(image_idx):\n",
    "    fig, ax = plt.subplots(figsize=(20., 20.))\n",
    "    actual = X[image_idx]\n",
    "    # concatenate the actual and reconstructed images as large image before plotting it\n",
    "    x = np.concatenate([actual[np.newaxis, :], reconstructions[:, image_idx]])\n",
    "    ax.imshow(np.hstack(x.reshape(-1, 28, 28)[np.arange(10)]),\n",
    "              cmap='gray');\n",
    "    ax.axvline(28, color='orange', linewidth=2)"
   ]
  },
  {
   "cell_type": "code",
   "execution_count": 16,
   "metadata": {},
   "outputs": [
    {
     "data": {
      "application/vnd.jupyter.widget-view+json": {
       "model_id": "a516d835c2004f5a94e0b20e47a50188",
       "version_major": 2,
       "version_minor": 0
      },
      "text/plain": [
       "interactive(children=(IntSlider(value=1, description='i', max=10), Output()), _dom_classes=('widget-interact',…"
      ]
     },
     "metadata": {},
     "output_type": "display_data"
    }
   ],
   "source": [
    "@interact(i=(0, 10))\n",
    "def show_pca_digits(i=1):\n",
    "    \"\"\"Show the i th digit and its reconstruction\"\"\"\n",
    "    plt.figure(figsize=(4,4))\n",
    "    actual_sample = X[i].reshape(28,28)\n",
    "    reconst_sample = (reconst[i, :]).reshape(28, 28)\n",
    "    plt.imshow(np.hstack([actual_sample, reconst_sample]), cmap='gray')\n",
    "    plt.show()"
   ]
  }
 ],
 "metadata": {
  "kernelspec": {
   "display_name": "Python 3",
   "language": "python",
   "name": "python3"
  },
  "language_info": {
   "codemirror_mode": {
    "name": "ipython",
    "version": 3
   },
   "file_extension": ".py",
   "mimetype": "text/x-python",
   "name": "python",
   "nbconvert_exporter": "python",
   "pygments_lexer": "ipython3",
   "version": "3.10.10"
  }
 },
 "nbformat": 4,
 "nbformat_minor": 2
}
