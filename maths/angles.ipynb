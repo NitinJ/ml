{
 "cells": [
  {
   "cell_type": "code",
   "execution_count": 4,
   "metadata": {},
   "outputs": [],
   "source": [
    "import numpy as np\n",
    "import math "
   ]
  },
  {
   "cell_type": "code",
   "execution_count": 8,
   "metadata": {},
   "outputs": [
    {
     "data": {
      "text/plain": [
       "2.9996955989856287"
      ]
     },
     "execution_count": 8,
     "metadata": {},
     "output_type": "execute_result"
    }
   ],
   "source": [
    "def angle(x, z):\n",
    "    dot = x @ z.T\n",
    "    return math.acos(dot/(np.linalg.norm(x) * np.linalg.norm(z)))\n",
    "    \n",
    "x = np.array([3, 4])\n",
    "y = np.array([-1,-1])\n",
    "z = y\n",
    "angle(x, z)"
   ]
  },
  {
   "cell_type": "code",
   "execution_count": 16,
   "metadata": {},
   "outputs": [
    {
     "data": {
      "text/plain": [
       "42"
      ]
     },
     "execution_count": 16,
     "metadata": {},
     "output_type": "execute_result"
    }
   ],
   "source": [
    "def inner_product(x, y, A):\n",
    "    return (x.T @ A) @ y\n",
    "\n",
    "x = np.array([4, 2, 1])\n",
    "y = np.array([0, 1, 0])\n",
    "A = np.array([[2, 1, 0],\n",
    "              [1, 2, -1],\n",
    "              [0, -1, 2]])\n",
    "\n",
    "inner_product(x-y, x-y, A)"
   ]
  },
  {
   "cell_type": "code",
   "execution_count": 19,
   "metadata": {},
   "outputs": [
    {
     "data": {
      "text/plain": [
       "1.7320508075688772"
      ]
     },
     "execution_count": 19,
     "metadata": {},
     "output_type": "execute_result"
    }
   ],
   "source": [
    "x = np.array([-1 ,-1 ,-1])\n",
    "math.sqrt(x.T @ np.eye(x.shape[0]) @ x)"
   ]
  },
  {
   "cell_type": "code",
   "execution_count": 44,
   "metadata": {},
   "outputs": [
    {
     "name": "stdout",
     "output_type": "stream",
     "text": [
      "1.2094292028881888\n"
     ]
    }
   ],
   "source": [
    "def inner_product(x, y, A):\n",
    "    return (x.T @ A) @ y\n",
    "\n",
    "def norm(x, A):\n",
    "    return np.sqrt(x.T @ A @ x)\n",
    "\n",
    "def angle(x, y, A):\n",
    "    return np.arccos(inner_product(x, y, A)/(norm(x, A) * norm(y, A)))\n",
    "\n",
    "x = np.array([1, 1])\n",
    "y = np.array([-1, 1])\n",
    "A = np.array([[2,-1],[-1,4]])\n",
    "\n",
    "inner_product(x, y, A)\n",
    "print(angle(x, y, A))\n"
   ]
  },
  {
   "cell_type": "code",
   "execution_count": 37,
   "metadata": {},
   "outputs": [
    {
     "name": "stdout",
     "output_type": "stream",
     "text": [
      "nan\n"
     ]
    },
    {
     "name": "stderr",
     "output_type": "stream",
     "text": [
      "C:\\Users\\Nitin\\AppData\\Local\\Temp\\ipykernel_22876\\3251002912.py:15: RuntimeWarning: invalid value encountered in arccos\n",
      "  angle = np.arccos(alpha)\n"
     ]
    },
    {
     "data": {
      "text/plain": [
       "nan"
      ]
     },
     "execution_count": 37,
     "metadata": {},
     "output_type": "execute_result"
    }
   ],
   "source": [
    "# the matrix A defines the inner product\n",
    "import numpy as np\n",
    "\n",
    "A = np.array([[1, -1/2],[-1/2,5]])\n",
    "x = np.array([0,-1])\n",
    "y = np.array([1,1])\n",
    "\n",
    "def norm(x, A):\n",
    "    return np.sqrt(x.T @ A @ x)\n",
    "\n",
    "def find_angle(A, x, y):\n",
    "    \"\"\"Compute the angle\"\"\"\n",
    "    inner_prod = x.T @ A @ y\n",
    "    # Fill in the expression for norm_x and norm_y below\n",
    "    norm_x = norm(x, A)\n",
    "    norm_y = norm(y, A)\n",
    "    alpha = inner_prod/(norm_x * norm_y)\n",
    "    angle = np.arccos(alpha)\n",
    "    print(angle)\n",
    "    return np.round(angle,2) \n",
    "\n",
    "find_angle(A, x, y)"
   ]
  }
 ],
 "metadata": {
  "kernelspec": {
   "display_name": "Python 3",
   "language": "python",
   "name": "python3"
  },
  "language_info": {
   "codemirror_mode": {
    "name": "ipython",
    "version": 3
   },
   "file_extension": ".py",
   "mimetype": "text/x-python",
   "name": "python",
   "nbconvert_exporter": "python",
   "pygments_lexer": "ipython3",
   "version": "3.10.10"
  }
 },
 "nbformat": 4,
 "nbformat_minor": 2
}
