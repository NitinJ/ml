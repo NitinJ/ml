{
 "cells": [
  {
   "cell_type": "code",
   "execution_count": 2,
   "metadata": {},
   "outputs": [],
   "source": [
    "import numpy as np"
   ]
  },
  {
   "cell_type": "code",
   "execution_count": 3,
   "metadata": {},
   "outputs": [
    {
     "name": "stdout",
     "output_type": "stream",
     "text": [
      "[1 2 3]\n"
     ]
    },
    {
     "data": {
      "text/plain": [
       "(3,)"
      ]
     },
     "execution_count": 3,
     "metadata": {},
     "output_type": "execute_result"
    }
   ],
   "source": [
    "a = np.array([1,2,3])\n",
    "print(a)\n",
    "a.shape"
   ]
  },
  {
   "cell_type": "code",
   "execution_count": 4,
   "metadata": {},
   "outputs": [
    {
     "name": "stdout",
     "output_type": "stream",
     "text": [
      "[[0. 0. 0.]\n",
      " [0. 0. 0.]]\n",
      "[[1. 1. 1.]\n",
      " [1. 1. 1.]]\n"
     ]
    }
   ],
   "source": [
    "a = np.zeros((2,3))\n",
    "print(a)\n",
    "\n",
    "a = np.ones([2,3])\n",
    "print(a)"
   ]
  },
  {
   "cell_type": "code",
   "execution_count": 5,
   "metadata": {},
   "outputs": [
    {
     "name": "stdout",
     "output_type": "stream",
     "text": [
      "[0 1 2]\n",
      "[[0]\n",
      " [1]\n",
      " [2]] (3, 1)\n",
      "[ 0  1  2  3  4  5  6  7  8  9 10 11] (12,)\n",
      "[[ 0  1  2  3]\n",
      " [ 4  5  6  7]\n",
      " [ 8  9 10 11]] (3, 4)\n"
     ]
    }
   ],
   "source": [
    "a = np.arange(3)\n",
    "print(a)\n",
    "\n",
    "a = a.reshape((-1, 1))\n",
    "print(a, a.shape)\n",
    "\n",
    "a = np.arange(0, 12)\n",
    "print(a, a.shape)\n",
    "\n",
    "a = a.reshape((3, 4))\n",
    "print(a, a.shape)"
   ]
  },
  {
   "cell_type": "code",
   "execution_count": 6,
   "metadata": {},
   "outputs": [
    {
     "name": "stdout",
     "output_type": "stream",
     "text": [
      "[[ 0  1  2  3]\n",
      " [ 4  5  6  7]\n",
      " [ 8  9 10 11]] (3, 4)\n",
      "[4 5 6 7]\n"
     ]
    }
   ],
   "source": [
    "a = np.arange(0, 12)\n",
    "a = a.reshape((3, 4))\n",
    "\n",
    "print(a, a.shape)\n",
    "print(a[1])"
   ]
  },
  {
   "cell_type": "code",
   "execution_count": 42,
   "metadata": {},
   "outputs": [
    {
     "name": "stdout",
     "output_type": "stream",
     "text": [
      "X = \n",
      "[[14 22 25 23 48]\n",
      " [45 21 25 40 27]\n",
      " [15 37 18 38  8]\n",
      " [ 4  4 36 40 13]\n",
      " [48 29 31 44 45]], N=5, D=5\n",
      "Mean = \n",
      " [25.2 22.6 27.  37.  28.2]\n",
      "X - mean =\n",
      " [[-11.2  -0.6  -2.  -14.   19.8]\n",
      " [ 19.8  -1.6  -2.    3.   -1.2]\n",
      " [-10.2  14.4  -9.    1.  -20.2]\n",
      " [-21.2 -18.6   9.    3.  -15.2]\n",
      " [ 22.8   6.4   4.    7.   16.8]]\n",
      "mean_centered + [[39.2 44.6 52.  60.  76.2]\n",
      " [70.2 43.6 52.  77.  55.2]\n",
      " [40.2 59.6 45.  75.  36.2]\n",
      " [29.2 26.6 63.  77.  41.2]\n",
      " [73.2 51.6 58.  81.  73.2]]\n",
      "\n",
      "Covariance matrix correct : \n",
      " [[318.16  73.68  -5.    60.4  133.16]\n",
      " [ 73.68 119.44 -53.4    1.4   17.88]\n",
      " [ -5.   -53.4   37.2   13.6   15.  ]\n",
      " [ 60.4    1.4   13.6   52.8  -45.8 ]\n",
      " [133.16  17.88  15.   -45.8  262.96]]\n",
      "Covariance matrix : \n",
      " [[318.16  73.68  -5.    60.4  133.16]\n",
      " [ 73.68 119.44 -53.4    1.4   17.88]\n",
      " [ -5.   -53.4   37.2   13.6   15.  ]\n",
      " [ 60.4    1.4   13.6   52.8  -45.8 ]\n",
      " [133.16  17.88  15.   -45.8  262.96]]\n",
      "Rank =  4\n",
      "[ 4.42384846e+02  2.03600483e+02  1.28106326e+02  1.64683457e+01\n",
      " -3.75647408e-15]\n",
      "[[-0.78017349 -0.43212491  0.26706761 -0.32480722  0.16665097]\n",
      " [-0.21300795 -0.32563003 -0.76235878  0.44933223  0.25593421]\n",
      " [ 0.01426059  0.15203756  0.46847333  0.5103073   0.70484071]\n",
      " [-0.05237114 -0.38476029  0.34415148  0.61716138 -0.59151363]\n",
      " [-0.58567127  0.73217296 -0.09785948  0.22649307 -0.24502313]]\n",
      "[0 1 2 3 4]\n",
      "Eigvals = [ 4.42384846e+02  2.03600483e+02  1.28106326e+02  1.64683457e+01\n",
      " -3.75647408e-15]\n",
      ", Eigvecs = [[-0.78017349 -0.43212491  0.26706761 -0.32480722  0.16665097]\n",
      " [-0.21300795 -0.32563003 -0.76235878  0.44933223  0.25593421]\n",
      " [ 0.01426059  0.15203756  0.46847333  0.5103073   0.70484071]\n",
      " [-0.05237114 -0.38476029  0.34415148  0.61716138 -0.59151363]\n",
      " [-0.58567127  0.73217296 -0.09785948  0.22649307 -0.24502313]]\n",
      "\n",
      "[442.38484602 203.60048271 128.10632555]\n",
      "[[-0.78017349 -0.43212491  0.26706761]\n",
      " [-0.21300795 -0.32563003 -0.76235878]\n",
      " [ 0.01426059  0.15203756  0.46847333]\n",
      " [-0.05237114 -0.38476029  0.34415148]\n",
      " [-0.58567127  0.73217296 -0.09785948]]\n"
     ]
    }
   ],
   "source": [
    "N = 5\n",
    "D = 5\n",
    "\n",
    "X = np.random.randint(1, 50, size=N*D).reshape(N, D)\n",
    "print(\"X = \\n{}, N={}, D={}\".format(X, N, D))\n",
    "\n",
    "mean = np.mean(X, axis=0)\n",
    "print(\"Mean = \\n\", mean)\n",
    "\n",
    "print(\"X - mean =\\n\", X - mean)\n",
    "\n",
    "covariance = np.zeros((D, D))\n",
    "mean_centered = X - mean\n",
    "\n",
    "print(\"mean_centered + {}\\n\".format(X + mean))\n",
    "\n",
    "# print(mean_centered)\n",
    "print(\"Covariance matrix correct : \\n\", np.cov(X, rowvar=False, bias=True))\n",
    "\n",
    "for i in range(D):\n",
    "    for j in range(D):\n",
    "        covariance[i,j] = (mean_centered[:,i].T @ mean_centered[:,j])/N\n",
    "\n",
    "print(\"Covariance matrix : \\n\", covariance)\n",
    "print(\"Rank = \", np.linalg.matrix_rank(covariance))\n",
    "\n",
    "eigvals, eigvecs = np.linalg.eig(covariance)\n",
    "print(eigvals)\n",
    "print(eigvecs)\n",
    "\n",
    "sindexes = np.argsort(eigvals)[::-1]\n",
    "print(sindexes)\n",
    "eigvals = eigvals[sindexes]\n",
    "eigvecs = eigvecs[:, sindexes]\n",
    "\n",
    "print(\"Eigvals = {}\\n, Eigvecs = {}\\n\".format(eigvals, eigvecs))\n",
    "print(eigvals[:3])\n",
    "print(eigvecs[:,:3])\n"
   ]
  },
  {
   "cell_type": "code",
   "execution_count": 51,
   "metadata": {},
   "outputs": [
    {
     "name": "stdout",
     "output_type": "stream",
     "text": [
      "X = \n",
      "[[5 4 6]\n",
      " [4 4 4]\n",
      " [8 8 2]\n",
      " [5 5 5]\n",
      " [3 8 1]], N=5, D=3\n",
      "mean = \n",
      " [5.  5.8 3.6]\n",
      "mean_centered = \n",
      " [[ 0.  -1.8  2.4]\n",
      " [-1.  -1.8  0.4]\n",
      " [ 3.   2.2 -1.6]\n",
      " [ 0.  -0.8  1.4]\n",
      " [-2.   2.2 -2.6]]\n",
      "X + mean = \n",
      "[[5. 4. 6.]\n",
      " [4. 4. 4.]\n",
      " [8. 8. 2.]\n",
      " [5. 5. 5.]\n",
      " [3. 8. 1.]]\n",
      "\n"
     ]
    }
   ],
   "source": [
    "N = 5\n",
    "D = 3\n",
    "\n",
    "X = np.random.randint(1, 10, size=N*D).reshape(N, D)\n",
    "print(\"X = \\n{}, N={}, D={}\".format(X, N, D))\n",
    "\n",
    "mean = np.mean(X, axis=0)\n",
    "print(\"mean = \\n\", mean)\n",
    "mean_centered = X - mean\n",
    "print(\"mean_centered = \\n\", mean_centered)\n",
    "\n",
    "print(\"X + mean = \\n{}\\n\".format(mean_centered + mean))"
   ]
  },
  {
   "cell_type": "code",
   "execution_count": 69,
   "metadata": {},
   "outputs": [
    {
     "data": {
      "image/png": "[encoded data removed]",
      "text/plain": [
       "<Figure size 400x400 with 1 Axes>"
      ]
     },
     "metadata": {},
     "output_type": "display_data"
    }
   ],
   "source": []
  }
 ],
 "metadata": {
  "kernelspec": {
   "display_name": "Python 3",
   "language": "python",
   "name": "python3"
  },
  "language_info": {
   "codemirror_mode": {
    "name": "ipython",
    "version": 3
   },
   "file_extension": ".py",
   "mimetype": "text/x-python",
   "name": "python",
   "nbconvert_exporter": "python",
   "pygments_lexer": "ipython3",
   "version": "3.10.10"
  }
 },
 "nbformat": 4,
 "nbformat_minor": 2
}
