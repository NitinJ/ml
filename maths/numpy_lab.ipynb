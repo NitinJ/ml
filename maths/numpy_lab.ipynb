{
 "cells": [
  {
   "cell_type": "code",
   "execution_count": 2,
   "metadata": {},
   "outputs": [],
   "source": [
    "import numpy as np\n",
    "import matplotlib.pyplot as plot"
   ]
  },
  {
   "cell_type": "code",
   "execution_count": 3,
   "metadata": {},
   "outputs": [
    {
     "name": "stdout",
     "output_type": "stream",
     "text": [
      "(3, 3)\n"
     ]
    },
    {
     "ename": "AttributeError",
     "evalue": "module 'numpy' has no attribute 'sigmoid'",
     "output_type": "error",
     "traceback": [
      "\u001b[1;31m---------------------------------------------------------------------------\u001b[0m",
      "\u001b[1;31mAttributeError\u001b[0m                            Traceback (most recent call last)",
      "\u001b[1;32mg:\\projects\\Untitled-1.ipynb Cell 2\u001b[0m line \u001b[0;36m5\n\u001b[0;32m      <a href='vscode-notebook-cell:/g%3A/projects/Untitled-1.ipynb#W2sZmlsZQ%3D%3D?line=1'>2</a>\u001b[0m \u001b[39mprint\u001b[39m(A\u001b[39m.\u001b[39mshape)\n\u001b[0;32m      <a href='vscode-notebook-cell:/g%3A/projects/Untitled-1.ipynb#W2sZmlsZQ%3D%3D?line=2'>3</a>\u001b[0m plot\u001b[39m.\u001b[39mplot(A)\n\u001b[1;32m----> <a href='vscode-notebook-cell:/g%3A/projects/Untitled-1.ipynb#W2sZmlsZQ%3D%3D?line=4'>5</a>\u001b[0m np\u001b[39m.\u001b[39;49msigmoid\n",
      "File \u001b[1;32mc:\\Users\\Nitin\\AppData\\Local\\Programs\\Python\\Python310\\lib\\site-packages\\numpy\\__init__.py:347\u001b[0m, in \u001b[0;36m__getattr__\u001b[1;34m(attr)\u001b[0m\n\u001b[0;32m    344\u001b[0m     \u001b[39m\"\u001b[39m\u001b[39mRemoved in NumPy 1.25.0\u001b[39m\u001b[39m\"\u001b[39m\n\u001b[0;32m    345\u001b[0m     \u001b[39mraise\u001b[39;00m \u001b[39mRuntimeError\u001b[39;00m(\u001b[39m\"\u001b[39m\u001b[39mTester was removed in NumPy 1.25.\u001b[39m\u001b[39m\"\u001b[39m)\n\u001b[1;32m--> 347\u001b[0m \u001b[39mraise\u001b[39;00m \u001b[39mAttributeError\u001b[39;00m(\u001b[39m\"\u001b[39m\u001b[39mmodule \u001b[39m\u001b[39m{!r}\u001b[39;00m\u001b[39m has no attribute \u001b[39m\u001b[39m\"\u001b[39m\n\u001b[0;32m    348\u001b[0m                      \u001b[39m\"\u001b[39m\u001b[39m{!r}\u001b[39;00m\u001b[39m\"\u001b[39m\u001b[39m.\u001b[39mformat(\u001b[39m__name__\u001b[39m, attr))\n",
      "\u001b[1;31mAttributeError\u001b[0m: module 'numpy' has no attribute 'sigmoid'"
     ]
    },
    {
     "data": {
      "image/png": "[encoded data removed]",
      "text/plain": [
       "<Figure size 640x480 with 1 Axes>"
      ]
     },
     "metadata": {},
     "output_type": "display_data"
    }
   ],
   "source": [
    "A = np.zeros((3,3))\n",
    "print(A.shape)\n",
    "plot.plot(A)\n",
    "\n",
    "np.sigmoid"
   ]
  },
  {
   "cell_type": "code",
   "execution_count": null,
   "metadata": {},
   "outputs": [
    {
     "name": "stdout",
     "output_type": "stream",
     "text": [
      "[[0.98201379 0.73105858 0.88079708]\n",
      " [0.99908895 0.88079708 0.95257413]]\n"
     ]
    }
   ],
   "source": [
    "a = np.array([[4, 1, 2],\n",
    "              [7, 2, 3]])\n",
    "a = 1 + np.exp(-1 * a)\n",
    "a = 1 / a\n",
    "print(a)"
   ]
  },
  {
   "cell_type": "code",
   "execution_count": null,
   "metadata": {},
   "outputs": [
    {
     "name": "stdout",
     "output_type": "stream",
     "text": [
      "[[2 1 3]\n",
      " [4 5 6]]\n",
      "1\n",
      "[2 1 3]\n",
      "[1 4]\n",
      "[[1]\n",
      " [4]]\n"
     ]
    }
   ],
   "source": [
    "# Max/Min functions\n",
    "a = np.array([[2, 1, 3],\n",
    "              [4, 5, 6]])\n",
    "print(a)\n",
    "print(np.min(a))\n",
    "print(np.min(a, axis=0))\n",
    "print(np.min(a, axis=1))\n",
    "print(np.min(a, axis=1, keepdims=True))"
   ]
  },
  {
   "cell_type": "code",
   "execution_count": 11,
   "metadata": {},
   "outputs": [
    {
     "name": "stdout",
     "output_type": "stream",
     "text": [
      "(2, 2)\n",
      "mean =  [2. 3.]\n",
      "std =  [1. 1.]\n",
      "[[-1.  1.]\n",
      " [ 1. -1.]]\n"
     ]
    },
    {
     "data": {
      "text/plain": [
       "array([[-1.,  1.],\n",
       "       [ 1., -1.]])"
      ]
     },
     "execution_count": 11,
     "metadata": {},
     "output_type": "execute_result"
    }
   ],
   "source": [
    "# Normalization\n",
    "def normalize(x):\n",
    "    mean = np.mean(x, axis=0)\n",
    "    std = np.std(x, axis=0)\n",
    "    \n",
    "    print(\"mean = \", mean)\n",
    "    print(\"std = \", std)\n",
    "    print(x - mean)\n",
    "    x = (x - mean)/std\n",
    "    return x\n",
    "\n",
    "x = np.array([[1, 4],\n",
    "              [3, 2]])\n",
    "print(x.shape)\n",
    "\n",
    "normalize(x)"
   ]
  },
  {
   "cell_type": "code",
   "execution_count": 15,
   "metadata": {},
   "outputs": [
    {
     "name": "stdout",
     "output_type": "stream",
     "text": [
      "A Vector:\n",
      " [0 1 2 3 4 5]\n",
      "A Matrix:\n",
      " [[1 2 3]\n",
      " [4 5 6]]\n",
      "A Matrix:\n",
      " [[1 2 3]\n",
      " [4 5 6]]\n",
      "Transpose =  [[1 4]\n",
      " [2 5]\n",
      " [3 6]]\n"
     ]
    }
   ],
   "source": [
    "a = np.arange(6)\n",
    "print('A Vector:\\n', a)\n",
    "\n",
    "a = np.array([[1, 2, 3],\n",
    "              [4, 5, 6]]) # Can you think of a better way to create this array?\n",
    "print('A Matrix:\\n', a)\n",
    "\n",
    "a = np.arange(6).reshape((2,3)) + 1\n",
    "print('A Matrix:\\n', a)\n",
    "\n",
    "print(\"Transpose = \", a.T)"
   ]
  },
  {
   "cell_type": "code",
   "execution_count": 19,
   "metadata": {},
   "outputs": [
    {
     "name": "stdout",
     "output_type": "stream",
     "text": [
      "A:\n",
      " [1. 1. 1.]\n",
      "Shape of A:\n",
      " (3,)\n",
      "A.T:\n",
      " [1. 1. 1.]\n",
      "Shape of A.T:\n",
      " (3,)\n",
      "A:\n",
      " [[1.]\n",
      " [1.]\n",
      " [1.]]\n",
      "Shape of A:\n",
      " (3, 1)\n",
      "A.T:\n",
      " [[1. 1. 1.]]\n",
      "Shape of A.T:\n",
      " (1, 3)\n"
     ]
    }
   ],
   "source": [
    "a = np.ones(3)\n",
    "print('A:\\n', a)\n",
    "print('Shape of A:\\n', a.shape)\n",
    "print('A.T:\\n', a.T)\n",
    "print('Shape of A.T:\\n', a.T.shape)\n",
    "\n",
    "\n",
    "a = np.ones((3,1))\n",
    "print('A:\\n', a)\n",
    "print('Shape of A:\\n', a.shape)\n",
    "print('A.T:\\n', a.T)\n",
    "print('Shape of A.T:\\n', a.T.shape)\n"
   ]
  },
  {
   "cell_type": "code",
   "execution_count": 22,
   "metadata": {},
   "outputs": [
    {
     "name": "stdout",
     "output_type": "stream",
     "text": [
      "A:\n",
      " [[2 0 1]\n",
      " [1 3 4]\n",
      " [0 2 1]]\n",
      "B:\n",
      " [[0 1]\n",
      " [2 3]\n",
      " [4 5]]\n",
      "A @ B:\n",
      " [[ 4  7]\n",
      " [22 30]\n",
      " [ 8 11]]\n",
      "A:\n",
      " [[2 0 1]\n",
      " [1 3 4]\n",
      " [0 2 1]]\n",
      "C:\n",
      " [[3]\n",
      " [2]\n",
      " [8]]\n",
      "A @ C:\n",
      " [[14]\n",
      " [41]\n",
      " [12]]\n"
     ]
    }
   ],
   "source": [
    "A = np.array([[2, 0, 1],\n",
    "              [1, 3, 4],\n",
    "              [0, 2, 1]])\n",
    "\n",
    "B = np.arange(6).reshape(3, 2)\n",
    "\n",
    "C = np.array([3, 2, 8]).reshape((-1, 1))\n",
    "\n",
    "print('A:\\n', A)\n",
    "print('B:\\n', B)\n",
    "print('A @ B:\\n', A @ B)\n",
    "\n",
    "print('A:\\n', A)\n",
    "print('C:\\n', C)\n",
    "print('A @ C:\\n', A @ C)"
   ]
  },
  {
   "cell_type": "code",
   "execution_count": 32,
   "metadata": {},
   "outputs": [
    {
     "name": "stdout",
     "output_type": "stream",
     "text": [
      "[[0. 0. 0. 0.]\n",
      " [0. 0. 0. 0.]\n",
      " [0. 0. 0. 0.]\n",
      " [0. 0. 0. 0.]]\n"
     ]
    },
    {
     "data": {
      "text/plain": [
       "(array([[-5.00000000e-01,  8.01783726e-01,  9.04534034e-01,\n",
       "          3.77964473e-01],\n",
       "        [-5.00000000e-01,  5.34522484e-01,  3.01511345e-01,\n",
       "          7.55928946e-01],\n",
       "        [ 5.00000000e-01, -7.95591412e-15,  3.01511345e-01,\n",
       "          3.77964473e-01],\n",
       "        [-5.00000000e-01,  2.67261242e-01, -2.21106380e-15,\n",
       "          3.77964473e-01]]),\n",
       " array([[1., 0., 0., 0.],\n",
       "        [0., 2., 0., 0.],\n",
       "        [0., 0., 3., 0.],\n",
       "        [0., 0., 0., 4.]]),\n",
       " array([[-2.00000000e+00,  1.00000000e+01, -4.00000000e+00,\n",
       "         -1.40000000e+01],\n",
       "        [-3.74165739e+00,  2.24499443e+01, -1.12249722e+01,\n",
       "         -2.99332591e+01],\n",
       "        [ 3.31662479e+00, -1.32664992e+01,  6.63324958e+00,\n",
       "          1.65831240e+01],\n",
       "        [-8.81212207e-16, -2.64575131e+00,  2.64575131e+00,\n",
       "          5.29150262e+00]]))"
      ]
     },
     "execution_count": 32,
     "metadata": {},
     "output_type": "execute_result"
    }
   ],
   "source": [
    "def diagonalize(A):\n",
    "    \"\"\"\n",
    "    Diagonalizes the input matrix A\n",
    "\n",
    "    Arguments:\n",
    "    A: A two dimensional Numpy array which is guaranteed to be diagonalizable\n",
    "\n",
    "    Returns:\n",
    "    S, D, S_inv: As explained above\n",
    "    \"\"\"\n",
    "\n",
    "    ### BEGIN SOLUTION\n",
    "\n",
    "    # Retrieve the number of rows in A\n",
    "    n = A.shape[0]\n",
    "\n",
    "    # Get the eigenvalues and eigenvectors of A\n",
    "    eig_vals, S = np.linalg.eig(A)\n",
    "\n",
    "    # Start by initializing D to a matrix of zeros of the appropriate shape\n",
    "    D = np.zeros((n, n))\n",
    "    print(D)\n",
    "\n",
    "    # Set the diagonal element of D to be the eigenvalues\n",
    "    for i in range(n):\n",
    "        D[i, i] = eig_vals[i]\n",
    "\n",
    "    # Compute the inverse of S\n",
    "    S_inv = np.linalg.inv(S)\n",
    "\n",
    "    ### END SOLUTION\n",
    "\n",
    "    return S, D, S_inv\n",
    "\n",
    "A = np.array([[4, -9, 6, 12],\n",
    "              [0, -1, 4, 6],\n",
    "              [2, -11, 8, 16],\n",
    "              [-1, 3, 0, -1]])\n",
    "diagonalize(A)"
   ]
  },
  {
   "cell_type": "code",
   "execution_count": 52,
   "metadata": {},
   "outputs": [
    {
     "name": "stdout",
     "output_type": "stream",
     "text": [
      "[1 2 3 0 0]\n",
      "[2 4 5 3 1]\n",
      "25\n",
      "[2 1]\n"
     ]
    },
    {
     "data": {
      "text/plain": [
       "array([0., 0., 0., 0., 0.])"
      ]
     },
     "execution_count": 52,
     "metadata": {},
     "output_type": "execute_result"
    }
   ],
   "source": [
    "A = np.array([1,2,3])\n",
    "B = np.array([2,4,5,3,1])\n",
    "A = np.pad(A, (0, B.shape[0] - A.shape[0]))\n",
    "print(A)\n",
    "print(B)\n",
    "\n",
    "print(A @ B)\n",
    "print(A[:2][::-1])\n",
    "\n",
    "np.zeros(5)"
   ]
  },
  {
   "cell_type": "code",
   "execution_count": 64,
   "metadata": {},
   "outputs": [
    {
     "data": {
      "text/plain": [
       "array([ 3., 10.,  8.])"
      ]
     },
     "execution_count": 64,
     "metadata": {},
     "output_type": "execute_result"
    }
   ],
   "source": [
    "def multiply(A, B):\n",
    "    \"\"\"\n",
    "    Multiplies two polynomials\n",
    "\n",
    "    Arguments:\n",
    "    A: Coefficients of the first polynomial\n",
    "    B: Coefficients of the second polynomial\n",
    "\n",
    "    Returns:\n",
    "    C: The coefficients of A*B\n",
    "    \"\"\"\n",
    "\n",
    "    ### BEGIN SOLUTION\n",
    "\n",
    "    # Find the coefficients of both the polynomials\n",
    "    na = A.shape[0]\n",
    "    nb = B.shape[0]\n",
    "    s = max(na, nb)\n",
    "    \n",
    "    # Pad the smaller array with 0s\n",
    "    if na < nb:\n",
    "        # Pad A\n",
    "        A = np.pad(A, (0, nb - na))\n",
    "    elif nb < na:\n",
    "        B = np.pad(B, (0, na - nb))\n",
    "    \n",
    "\n",
    "    # Initialize the output array with 0s\n",
    "    C = np.zeros(s * 2)\n",
    "\n",
    "    # Perform the multiplication\n",
    "    # You might want to break the loop over i into two separate phases\n",
    "    for i in range(s):\n",
    "        C[i] = A[:i+1] @ B[:i+1][::-1]\n",
    "    for i in range(1, s):\n",
    "        C[s + i - 1] += A[i:] @ B[i:][::-1]\n",
    "\n",
    "    # Remove any extra 0s from the back of C\n",
    "    C = np.trim_zeros(C)\n",
    "\n",
    "    return C\n",
    "\n",
    "A = np.array([1, 2])\n",
    "B = np.array([3, 4])\n",
    "multiply(A, B)"
   ]
  },
  {
   "cell_type": "code",
   "execution_count": 65,
   "metadata": {},
   "outputs": [
    {
     "data": {
      "text/plain": [
       "array([[ 2., -5.],\n",
       "       [-1.,  3.]])"
      ]
     },
     "execution_count": 65,
     "metadata": {},
     "output_type": "execute_result"
    }
   ],
   "source": [
    "A = np.array([[3, 5],\n",
    "              [1, 2]])\n",
    "np.linalg.inv(A)"
   ]
  }
 ],
 "metadata": {
  "kernelspec": {
   "display_name": "Python 3",
   "language": "python",
   "name": "python3"
  },
  "language_info": {
   "codemirror_mode": {
    "name": "ipython",
    "version": 3
   },
   "file_extension": ".py",
   "mimetype": "text/x-python",
   "name": "python",
   "nbconvert_exporter": "python",
   "pygments_lexer": "ipython3",
   "version": "3.10.10"
  },
  "orig_nbformat": 4
 },
 "nbformat": 4,
 "nbformat_minor": 2
}
