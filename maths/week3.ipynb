{
 "cells": [
  {
   "cell_type": "code",
   "execution_count": 26,
   "metadata": {},
   "outputs": [],
   "source": [
    "# PACKAGE: DO NOT EDIT THIS CELL\n",
    "import numpy as np\n",
    "import matplotlib\n",
    "import matplotlib.pyplot as plt\n",
    "plt.style.use('fivethirtyeight')\n",
    "%matplotlib inline"
   ]
  },
  {
   "cell_type": "code",
   "execution_count": 44,
   "metadata": {},
   "outputs": [
    {
     "name": "stdout",
     "output_type": "stream",
     "text": [
      "Shape B =  (3, 2)\n",
      "Shape X =  (3,)\n",
      "btb =  [[3 3]\n",
      " [3 5]]\n",
      "projection matrix:  [[ 0.83333333  0.33333333 -0.16666667]\n",
      " [ 0.33333333  0.33333333  0.33333333]\n",
      " [-0.16666667  0.33333333  0.83333333]] , rank =  2\n",
      "lamda =  [10. -6.]\n",
      "projected point:  [10.  4. -2.]\n",
      "[10.  4. -2.]\n"
     ]
    }
   ],
   "source": [
    "def get_projection(B, X):\n",
    "    print(\"Shape B = \", B.shape)\n",
    "    print(\"Shape X = \", X.shape)\n",
    "    \n",
    "    btb = B.T @ B\n",
    "    print(\"btb = \", btb)\n",
    "    lamda = np.linalg.inv(btb) @ B.T @ X \n",
    "    projection_matrix = B @ np.linalg.inv(btb) @ B.T\n",
    "    pie_u_x = B @ lamda \n",
    "    \n",
    "    print(\"projection matrix: \", projection_matrix, \", rank = \", np.linalg.matrix_rank(projection_matrix))\n",
    "    print(\"lamda = \", lamda)\n",
    "    print(\"projected point: \", pie_u_x)\n",
    "\n",
    "    return pie_u_x\n",
    "\n",
    "X = np.array([12, 0, 0])\n",
    "B = np.array([[1, 0],\n",
    "              [1, 1],\n",
    "              [1, 2]])\n",
    "\n",
    "print(get_projection(B, X))\n"
   ]
  },
  {
   "cell_type": "code",
   "execution_count": 49,
   "metadata": {},
   "outputs": [
    {
     "name": "stdout",
     "output_type": "stream",
     "text": [
      "(3, 3)\n"
     ]
    },
    {
     "data": {
      "text/plain": [
       "array([[ 0.83333333,  0.33333333, -0.16666667],\n",
       "       [ 0.33333333,  0.33333333,  0.33333333],\n",
       "       [-0.16666667,  0.33333333,  0.83333333]])"
      ]
     },
     "execution_count": 49,
     "metadata": {},
     "output_type": "execute_result"
    }
   ],
   "source": [
    "# GRADED FUNCTION: DO NOT EDIT THIS LINE\n",
    "def projection_matrix_general(B):\n",
    "    \"\"\"Compute the projection matrix onto the space spanned by the columns of `B`\n",
    "    Args:\n",
    "        B: ndarray of dimension (D, M), the basis for the subspace\n",
    "    \n",
    "    Returns:\n",
    "        P: the projection matrix\n",
    "    \"\"\"\n",
    "    projection_matrix = B @ np.linalg.inv(B.T @ B) @ B.T\n",
    "    print(projection_matrix.shape)\n",
    "    return projection_matrix\n"
   ]
  },
  {
   "cell_type": "code",
   "execution_count": 56,
   "metadata": {},
   "outputs": [
    {
     "name": "stdout",
     "output_type": "stream",
     "text": [
      "(3, 3)\n"
     ]
    },
    {
     "data": {
      "text/plain": [
       "array([5., 5., 0.])"
      ]
     },
     "execution_count": 56,
     "metadata": {},
     "output_type": "execute_result"
    }
   ],
   "source": [
    "# GRADED FUNCTION: DO NOT EDIT THIS LINE\n",
    "def project_general(x, B):\n",
    "    \"\"\"Compute the projection matrix onto the space spanned by the columns of `B`\n",
    "    Args:\n",
    "        x: ndarray of dimension (D, 1), the vector to be projected\n",
    "        B: ndarray of dimension (D, M), the basis for the subspace\n",
    "    \n",
    "    Returns:\n",
    "        p: projection of x onto the subspac spanned by the columns of B; size (D, 1)\n",
    "    \"\"\"\n",
    "    return projection_matrix_general(B) @ x\n",
    "\n",
    "# Projects a vector in 3d space to a 2d space using a basis matrix where z dimension is 0 for both the basis vectors.\n",
    "B = np.array([[1, 0],\n",
    "              [0, 1],\n",
    "              [0, 0]])\n",
    "X = np.array([5, 5, 5])\n",
    "project_general(X, B)"
   ]
  }
 ],
 "metadata": {
  "kernelspec": {
   "display_name": "Python 3",
   "language": "python",
   "name": "python3"
  },
  "language_info": {
   "codemirror_mode": {
    "name": "ipython",
    "version": 3
   },
   "file_extension": ".py",
   "mimetype": "text/x-python",
   "name": "python",
   "nbconvert_exporter": "python",
   "pygments_lexer": "ipython3",
   "version": "3.10.10"
  }
 },
 "nbformat": 4,
 "nbformat_minor": 2
}
